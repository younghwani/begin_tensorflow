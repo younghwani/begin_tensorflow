{
  "nbformat": 4,
  "nbformat_minor": 0,
  "metadata": {
    "colab": {
      "name": "Iris.ipynb",
      "provenance": [],
      "collapsed_sections": [],
      "authorship_tag": "ABX9TyPtjJ4vG62o2LnyutF1xYu+",
      "include_colab_link": true
    },
    "kernelspec": {
      "name": "python3",
      "display_name": "Python 3"
    }
  },
  "cells": [
    {
      "cell_type": "markdown",
      "metadata": {
        "id": "view-in-github",
        "colab_type": "text"
      },
      "source": [
        "<a href=\"https://colab.research.google.com/github/younghwani/begin_tensorflow/blob/master/Iris.ipynb\" target=\"_parent\"><img src=\"https://colab.research.google.com/assets/colab-badge.svg\" alt=\"Open In Colab\"/></a>"
      ]
    },
    {
      "cell_type": "code",
      "metadata": {
        "id": "m2ox96WQ7v1J"
      },
      "source": [
        "# Library\n",
        "import pandas as pd\n",
        "import tensorflow as tf"
      ],
      "execution_count": 1,
      "outputs": []
    },
    {
      "cell_type": "code",
      "metadata": {
        "id": "SRTYezNxBBFV"
      },
      "source": [
        "# prepart data\n",
        "path = '/content/iris.csv'\n",
        "iris = pd.read_csv(path)"
      ],
      "execution_count": 2,
      "outputs": []
    },
    {
      "cell_type": "code",
      "metadata": {
        "colab": {
          "base_uri": "https://localhost:8080/"
        },
        "id": "tL2FlxUnBmGN",
        "outputId": "a0bf9bc3-025c-4e8b-cb85-4ab4e120e45a"
      },
      "source": [
        "# 원핫인코딩 : 범주형 data를 수치형으로 변환\n",
        "encoding = pd.get_dummies(iris)\n",
        "encoding.columns"
      ],
      "execution_count": 3,
      "outputs": [
        {
          "output_type": "execute_result",
          "data": {
            "text/plain": [
              "Index(['꽃잎길이', '꽃잎폭', '꽃받침길이', '꽃받침폭', '품종_setosa', '품종_versicolor',\n",
              "       '품종_virginica'],\n",
              "      dtype='object')"
            ]
          },
          "metadata": {
            "tags": []
          },
          "execution_count": 3
        }
      ]
    },
    {
      "cell_type": "code",
      "metadata": {
        "id": "P7tE-zriB4Bv"
      },
      "source": [
        "# independent, dependent variable\n",
        "inde = encoding[['꽃잎길이', '꽃잎폭', '꽃받침길이', '꽃받침폭']]\n",
        "de = encoding[['품종_setosa', '품종_versicolor', '품종_virginica']]"
      ],
      "execution_count": 4,
      "outputs": []
    },
    {
      "cell_type": "code",
      "metadata": {
        "id": "H1vKkJUVCW3s"
      },
      "source": [
        "# make model\n",
        "X = tf.keras.layers.Input(shape=[4])\n",
        "Y = tf.keras.layers.Dense(3, activation='softmax')(X)\n",
        "model = tf.keras.models.Model(X, Y)\n",
        "model.compile(loss='categorical_crossentropy', metrics='accuracy')"
      ],
      "execution_count": 5,
      "outputs": []
    },
    {
      "cell_type": "code",
      "metadata": {
        "colab": {
          "base_uri": "https://localhost:8080/"
        },
        "id": "JUdg5DXyC944",
        "outputId": "a6ea9554-c23d-4cd4-e945-e5363e63a4c9"
      },
      "source": [
        "# fit model\n",
        "model.fit(inde, de, epochs=1000, verbose=0)\n",
        "model.fit(inde, de, epochs=10)"
      ],
      "execution_count": 6,
      "outputs": [
        {
          "output_type": "stream",
          "text": [
            "Epoch 1/10\n",
            "5/5 [==============================] - 0s 2ms/step - loss: 0.1538 - accuracy: 0.9667\n",
            "Epoch 2/10\n",
            "5/5 [==============================] - 0s 2ms/step - loss: 0.1536 - accuracy: 0.9667\n",
            "Epoch 3/10\n",
            "5/5 [==============================] - 0s 2ms/step - loss: 0.1530 - accuracy: 0.9667\n",
            "Epoch 4/10\n",
            "5/5 [==============================] - 0s 2ms/step - loss: 0.1535 - accuracy: 0.9667\n",
            "Epoch 5/10\n",
            "5/5 [==============================] - 0s 2ms/step - loss: 0.1528 - accuracy: 0.9667\n",
            "Epoch 6/10\n",
            "5/5 [==============================] - 0s 2ms/step - loss: 0.1534 - accuracy: 0.9667\n",
            "Epoch 7/10\n",
            "5/5 [==============================] - 0s 2ms/step - loss: 0.1531 - accuracy: 0.9667\n",
            "Epoch 8/10\n",
            "5/5 [==============================] - 0s 2ms/step - loss: 0.1524 - accuracy: 0.9667\n",
            "Epoch 9/10\n",
            "5/5 [==============================] - 0s 2ms/step - loss: 0.1526 - accuracy: 0.9667\n",
            "Epoch 10/10\n",
            "5/5 [==============================] - 0s 2ms/step - loss: 0.1527 - accuracy: 0.9667\n"
          ],
          "name": "stdout"
        },
        {
          "output_type": "execute_result",
          "data": {
            "text/plain": [
              "<tensorflow.python.keras.callbacks.History at 0x7f38f44c36a0>"
            ]
          },
          "metadata": {
            "tags": []
          },
          "execution_count": 6
        }
      ]
    },
    {
      "cell_type": "code",
      "metadata": {
        "colab": {
          "base_uri": "https://localhost:8080/"
        },
        "id": "Q7Fwk52NE-WJ",
        "outputId": "7bb4cff0-3d2d-42da-941d-1799be1420d1"
      },
      "source": [
        "# use model\n",
        "model.predict(inde[0:5])\n",
        "# model.predict(inde[-5:])\n"
      ],
      "execution_count": 7,
      "outputs": [
        {
          "output_type": "execute_result",
          "data": {
            "text/plain": [
              "array([[9.9942833e-01, 5.7158252e-04, 2.6794284e-08],\n",
              "       [9.9784756e-01, 2.1522315e-03, 2.7281166e-07],\n",
              "       [9.9886441e-01, 1.1354623e-03, 1.0436692e-07],\n",
              "       [9.9682593e-01, 3.1736528e-03, 4.8583678e-07],\n",
              "       [9.9950421e-01, 4.9578870e-04, 2.1153204e-08]], dtype=float32)"
            ]
          },
          "metadata": {
            "tags": []
          },
          "execution_count": 7
        }
      ]
    },
    {
      "cell_type": "code",
      "metadata": {
        "colab": {
          "base_uri": "https://localhost:8080/"
        },
        "id": "QT869dUaFYWk",
        "outputId": "2492b0de-2fbe-43a6-8c34-5b1f1970b332"
      },
      "source": [
        "print(de[0:5])\n",
        "#print(de[-5:])"
      ],
      "execution_count": 8,
      "outputs": [
        {
          "output_type": "stream",
          "text": [
            "   품종_setosa  품종_versicolor  품종_virginica\n",
            "0          1              0             0\n",
            "1          1              0             0\n",
            "2          1              0             0\n",
            "3          1              0             0\n",
            "4          1              0             0\n"
          ],
          "name": "stdout"
        }
      ]
    },
    {
      "cell_type": "code",
      "metadata": {
        "colab": {
          "base_uri": "https://localhost:8080/"
        },
        "id": "yNMY6R0UFyYE",
        "outputId": "90b2e406-8902-430a-ab68-9fcd040bab2d"
      },
      "source": [
        "# 학습한 weight\n",
        "model.get_weights()"
      ],
      "execution_count": 9,
      "outputs": [
        {
          "output_type": "execute_result",
          "data": {
            "text/plain": [
              "[array([[ 1.2623589 ,  0.38271597, -0.36592087],\n",
              "        [ 3.6158664 ,  1.3128568 , -0.37717006],\n",
              "        [-3.5333848 ,  0.02471595,  1.3559642 ],\n",
              "        [-4.771584  , -1.2245601 ,  2.309705  ]], dtype=float32),\n",
              " array([ 1.8785139,  1.2679522, -1.5374818], dtype=float32)]"
            ]
          },
          "metadata": {
            "tags": []
          },
          "execution_count": 9
        }
      ]
    }
  ]
}