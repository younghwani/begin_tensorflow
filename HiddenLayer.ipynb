{
  "nbformat": 4,
  "nbformat_minor": 0,
  "metadata": {
    "colab": {
      "name": "HiddenLayer.ipynb",
      "provenance": [],
      "collapsed_sections": [],
      "authorship_tag": "ABX9TyNwBa0697MDE4Fdf49qtZcC",
      "include_colab_link": true
    },
    "kernelspec": {
      "name": "python3",
      "display_name": "Python 3"
    }
  },
  "cells": [
    {
      "cell_type": "markdown",
      "metadata": {
        "id": "view-in-github",
        "colab_type": "text"
      },
      "source": [
        "<a href=\"https://colab.research.google.com/github/younghwani/begin_tensorflow/blob/master/HiddenLayer.ipynb\" target=\"_parent\"><img src=\"https://colab.research.google.com/assets/colab-badge.svg\" alt=\"Open In Colab\"/></a>"
      ]
    },
    {
      "cell_type": "code",
      "metadata": {
        "id": "KHVAiQyiQ9z4"
      },
      "source": [
        "# Library\n",
        "import pandas as pd\n",
        "import tensorflow as tf"
      ],
      "execution_count": 1,
      "outputs": []
    },
    {
      "cell_type": "code",
      "metadata": {
        "id": "W1wKjXDNRvG9"
      },
      "source": [
        "# prepare data\n",
        "path = '/content/boston.csv'\n",
        "boston = pd.read_csv(path)"
      ],
      "execution_count": 2,
      "outputs": []
    },
    {
      "cell_type": "code",
      "metadata": {
        "id": "mlwVHfTvR5_q"
      },
      "source": [
        "# variable\n",
        "inde = boston[['crim', 'zn', 'indus', 'chas', 'nox', 'rm', 'age', 'dis', 'rad', 'tax',\n",
        "       'ptratio', 'b', 'lstat']]\n",
        "de = boston[['medv']]"
      ],
      "execution_count": 3,
      "outputs": []
    },
    {
      "cell_type": "code",
      "metadata": {
        "id": "UZUvOeqUSLtR"
      },
      "source": [
        "# make model\n",
        "X = tf.keras.layers.Input(shape=[13])\n",
        "H = tf.keras.layers.Dense(10, activation='swish')(X)\n",
        "Y = tf.keras.layers.Dense(1)(H)\n",
        "model = tf.keras.models.Model(X, Y)\n",
        "model.compile(loss='mse')"
      ],
      "execution_count": 4,
      "outputs": []
    },
    {
      "cell_type": "code",
      "metadata": {
        "colab": {
          "base_uri": "https://localhost:8080/"
        },
        "id": "Im_xzQ2ESrfJ",
        "outputId": "23a35ab1-3615-4f50-a1be-921717d6206c"
      },
      "source": [
        "# 모델 구조 확인\n",
        "model.summary()"
      ],
      "execution_count": 5,
      "outputs": [
        {
          "output_type": "stream",
          "text": [
            "Model: \"model\"\n",
            "_________________________________________________________________\n",
            "Layer (type)                 Output Shape              Param #   \n",
            "=================================================================\n",
            "input_1 (InputLayer)         [(None, 13)]              0         \n",
            "_________________________________________________________________\n",
            "dense (Dense)                (None, 10)                140       \n",
            "_________________________________________________________________\n",
            "dense_1 (Dense)              (None, 1)                 11        \n",
            "=================================================================\n",
            "Total params: 151\n",
            "Trainable params: 151\n",
            "Non-trainable params: 0\n",
            "_________________________________________________________________\n"
          ],
          "name": "stdout"
        }
      ]
    },
    {
      "cell_type": "code",
      "metadata": {
        "colab": {
          "base_uri": "https://localhost:8080/"
        },
        "id": "TOv--HfSSyaB",
        "outputId": "867ea2ef-fb94-4c9c-8f26-5656132265d0"
      },
      "source": [
        "# fit model\n",
        "model.fit(inde, de, epochs=10000, verbose=0)\n",
        "model.fit(inde, de, epochs=10)"
      ],
      "execution_count": 6,
      "outputs": [
        {
          "output_type": "stream",
          "text": [
            "Epoch 1/10\n",
            "16/16 [==============================] - 0s 1ms/step - loss: 21.7634\n",
            "Epoch 2/10\n",
            "16/16 [==============================] - 0s 1ms/step - loss: 22.9716\n",
            "Epoch 3/10\n",
            "16/16 [==============================] - 0s 1ms/step - loss: 22.3335\n",
            "Epoch 4/10\n",
            "16/16 [==============================] - 0s 1ms/step - loss: 22.6487\n",
            "Epoch 5/10\n",
            "16/16 [==============================] - 0s 1ms/step - loss: 22.8369\n",
            "Epoch 6/10\n",
            "16/16 [==============================] - 0s 977us/step - loss: 22.9514\n",
            "Epoch 7/10\n",
            "16/16 [==============================] - 0s 1ms/step - loss: 23.0989\n",
            "Epoch 8/10\n",
            "16/16 [==============================] - 0s 1ms/step - loss: 23.0219\n",
            "Epoch 9/10\n",
            "16/16 [==============================] - 0s 1ms/step - loss: 22.3072\n",
            "Epoch 10/10\n",
            "16/16 [==============================] - 0s 1ms/step - loss: 23.4141\n"
          ],
          "name": "stdout"
        },
        {
          "output_type": "execute_result",
          "data": {
            "text/plain": [
              "<tensorflow.python.keras.callbacks.History at 0x7fa671de4400>"
            ]
          },
          "metadata": {
            "tags": []
          },
          "execution_count": 6
        }
      ]
    },
    {
      "cell_type": "code",
      "metadata": {
        "colab": {
          "base_uri": "https://localhost:8080/"
        },
        "id": "9GDe0EB0TIt1",
        "outputId": "c863ff68-29c4-4575-fad0-e34b2947bfc6"
      },
      "source": [
        "# use model\n",
        "print(model.predict(inde[:5]))\n",
        "print(de[:5])"
      ],
      "execution_count": 7,
      "outputs": [
        {
          "output_type": "stream",
          "text": [
            "[[29.398674]\n",
            " [24.32563 ]\n",
            " [31.219715]\n",
            " [29.872776]\n",
            " [29.44258 ]]\n",
            "   medv\n",
            "0  24.0\n",
            "1  21.6\n",
            "2  34.7\n",
            "3  33.4\n",
            "4  36.2\n"
          ],
          "name": "stdout"
        }
      ]
    },
    {
      "cell_type": "code",
      "metadata": {
        "colab": {
          "base_uri": "https://localhost:8080/"
        },
        "id": "s0We56GLTYTy",
        "outputId": "a9e11e44-9816-4d56-ca6f-8770efda90da"
      },
      "source": [
        "# 모델 수식 확인\n",
        "print(model.get_weights())"
      ],
      "execution_count": 8,
      "outputs": [
        {
          "output_type": "stream",
          "text": [
            "[array([[-0.5882051 ,  0.39314583, -0.19383976,  0.20916307, -0.18400544,\n",
            "         0.0841459 , -0.5077762 , -0.00568146,  0.26425445, -0.02798396],\n",
            "       [-0.09736182, -0.01337428,  0.19771959, -0.08795267,  0.10076325,\n",
            "        -0.29379618, -0.25076833,  0.18204343, -0.01637825,  0.16651833],\n",
            "       [-0.47050446, -0.18863146, -0.289643  , -0.07655117,  0.11530574,\n",
            "         0.21875757,  0.20795894,  0.13518375,  0.05501497,  0.29032427],\n",
            "       [-0.8148604 , -3.1416726 ,  1.243338  , -0.37961632, -0.9639087 ,\n",
            "         0.31872678, -0.48445517, -0.15454787,  0.23223531, -0.36926392],\n",
            "       [ 2.473948  ,  1.3117228 , -2.513978  ,  0.09877878,  2.2476258 ,\n",
            "         0.01597565, -0.19928735, -0.14312494, -0.22109231, -0.01016647],\n",
            "       [-3.129236  , -4.3687325 ,  2.5518198 ,  0.2894373 , -3.5098517 ,\n",
            "         0.38255972,  0.13690633, -0.4998736 , -0.38491833, -0.26457316],\n",
            "       [-0.14280096,  0.12007634,  0.36501458, -0.23256654,  0.22725414,\n",
            "         0.08561939, -0.32448632, -0.40057084, -0.06704894,  0.32666445],\n",
            "       [ 0.7300815 ,  0.70000213, -0.99701345,  0.42692095,  0.45845357,\n",
            "         0.32307523,  0.44261217,  0.09772837,  0.3969695 ,  0.32599837],\n",
            "       [-0.20951447, -0.10859349, -0.25841975,  0.00677705, -0.5263488 ,\n",
            "         0.3997665 ,  0.46919113,  0.10980803,  0.06949681,  0.02212983],\n",
            "       [ 0.2735535 , -0.0209006 ,  0.03161819, -0.3104377 ,  0.01417877,\n",
            "        -0.37968624, -0.43230286, -0.10019416, -0.48133194, -0.17402717],\n",
            "       [ 0.24444038,  0.3894871 , -0.22405897,  0.35047197,  0.2735298 ,\n",
            "        -0.3907867 , -0.12871614, -0.2319316 ,  0.00970715, -0.19222304],\n",
            "       [-0.0470475 ,  0.08908197,  0.2682449 , -0.35534742,  0.1476506 ,\n",
            "        -0.15116417, -0.31061405, -0.21373758,  0.03691107, -0.11337709],\n",
            "       [ 0.340489  ,  0.39101052, -0.22373717, -0.26218128,  0.23785387,\n",
            "        -0.09861562, -0.090949  ,  0.0874064 , -0.18574083,  0.10158104]],\n",
            "      dtype=float32), array([-5.8060570e+00, -5.8302383e+00,  5.7007799e+00,  0.0000000e+00,\n",
            "       -5.8755651e+00,  0.0000000e+00,  0.0000000e+00,  0.0000000e+00,\n",
            "       -6.8276768e-26, -4.4193680e-08], dtype=float32), array([[-0.10321746],\n",
            "       [-0.5558208 ],\n",
            "       [ 0.4096742 ],\n",
            "       [-0.5417623 ],\n",
            "       [-0.4958988 ],\n",
            "       [ 0.10600489],\n",
            "       [-0.3233754 ],\n",
            "       [ 0.6362991 ],\n",
            "       [ 0.32397813],\n",
            "       [ 0.5714838 ]], dtype=float32), array([5.831119], dtype=float32)]\n"
          ],
          "name": "stdout"
        }
      ]
    }
  ]
}