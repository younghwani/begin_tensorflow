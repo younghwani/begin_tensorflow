{
  "nbformat": 4,
  "nbformat_minor": 0,
  "metadata": {
    "colab": {
      "name": "myimage.ipynb",
      "provenance": [],
      "collapsed_sections": [],
      "authorship_tag": "ABX9TyP6P5RyCFHgsms7VMs8TWoG"
    },
    "kernelspec": {
      "name": "python3",
      "display_name": "Python 3"
    },
    "accelerator": "GPU"
  },
  "cells": [
    {
      "cell_type": "code",
      "metadata": {
        "id": "1rDEXC7Tvjc2"
      },
      "source": [
        "!wget -q https://raw.githubusercontent.com/blackdew/tensorflow1/master/csv/notMNIST_small.tar.gz\n",
        "!tar -xzf notMNIST_small.tar.gz"
      ],
      "execution_count": 1,
      "outputs": []
    },
    {
      "cell_type": "code",
      "metadata": {
        "colab": {
          "base_uri": "https://localhost:8080/"
        },
        "id": "qDZ4llH7qfiu",
        "outputId": "102f3385-eda8-4254-9849-a4dd16539181"
      },
      "source": [
        "# Library\n",
        "import glob\n",
        "import numpy as np\n",
        "import pandas as pd\n",
        "import matplotlib.pyplot as plt\n",
        "# read img, prepare data\n",
        "paths = glob.glob('./notMNIST_small/*/*.png')\n",
        "paths = np.random.permutation(paths)\n",
        "inde = np.array([plt.imread(paths[i]) for i in range(len(paths))])\n",
        "de = np.array([paths[i].split('/')[2] for i in range(len(paths))])\n",
        "print(inde.shape, de.shape)"
      ],
      "execution_count": 2,
      "outputs": [
        {
          "output_type": "stream",
          "text": [
            "(18724, 28, 28) (18724,)\n"
          ],
          "name": "stdout"
        }
      ]
    },
    {
      "cell_type": "code",
      "metadata": {
        "colab": {
          "base_uri": "https://localhost:8080/"
        },
        "id": "HObULWtcwXBg",
        "outputId": "98765db8-eea6-4539-e84f-ec4ec0d2ac1d"
      },
      "source": [
        "de[0:5]"
      ],
      "execution_count": 3,
      "outputs": [
        {
          "output_type": "execute_result",
          "data": {
            "text/plain": [
              "array(['B', 'C', 'J', 'H', 'C'], dtype='<U1')"
            ]
          },
          "metadata": {
            "tags": []
          },
          "execution_count": 3
        }
      ]
    },
    {
      "cell_type": "code",
      "metadata": {
        "colab": {
          "base_uri": "https://localhost:8080/",
          "height": 282
        },
        "id": "AG1Zp6qJwm3x",
        "outputId": "966f563e-17e0-404e-8fd3-ded232ca3b32"
      },
      "source": [
        "plt.imshow(inde[0], cmap='gray')"
      ],
      "execution_count": 4,
      "outputs": [
        {
          "output_type": "execute_result",
          "data": {
            "text/plain": [
              "<matplotlib.image.AxesImage at 0x7ffb9905e438>"
            ]
          },
          "metadata": {
            "tags": []
          },
          "execution_count": 4
        },
        {
          "output_type": "display_data",
          "data": {
            "image/png": "[encoded data removed]",
            "text/plain": [
              "<Figure size 432x288 with 1 Axes>"
            ]
          },
          "metadata": {
            "tags": [],
            "needs_background": "light"
          }
        }
      ]
    },
    {
      "cell_type": "code",
      "metadata": {
        "colab": {
          "base_uri": "https://localhost:8080/"
        },
        "id": "1y75NwNstOyg",
        "outputId": "e75e3542-9cb8-4433-8a90-702b37f738f5"
      },
      "source": [
        "# reshape data, one-hot-encoding\n",
        "inde = inde.reshape(18724, 28, 28, 1)\n",
        "de = pd.get_dummies(de)\n",
        "print(inde.shape, de.shape)"
      ],
      "execution_count": 5,
      "outputs": [
        {
          "output_type": "stream",
          "text": [
            "(18724, 28, 28, 1) (18724, 10)\n"
          ],
          "name": "stdout"
        }
      ]
    },
    {
      "cell_type": "code",
      "metadata": {
        "id": "HwM4Z36Wth8m"
      },
      "source": [
        "# make model (use LeNet Model)\n",
        "import tensorflow as tf\n",
        "\n",
        "X = tf.keras.layers.Input(shape=[28, 28, 1])\n",
        "\n",
        "H = tf.keras.layers.Conv2D(6, kernel_size=5, padding='same')(X)\n",
        "H = tf.keras.layers.BatchNormalization()(H)\n",
        "H = tf.keras.layers.Activation('swish')(H)\n",
        "H = tf.keras.layers.MaxPool2D()(H)\n",
        "\n",
        "H = tf.keras.layers.Conv2D(16, kernel_size=5)(H)\n",
        "H = tf.keras.layers.BatchNormalization()(H)\n",
        "H = tf.keras.layers.Activation('swish')(H)\n",
        "H = tf.keras.layers.MaxPool2D()(H)\n",
        "\n",
        "H = tf.keras.layers.Flatten()(H)\n",
        "H = tf.keras.layers.Dense(120, activation='swish')(H)\n",
        "H = tf.keras.layers.Dense(84, activation='swish')(H)\n",
        "Y = tf.keras.layers.Dense(10, activation='softmax')(H)\n",
        "\n",
        "model = tf.keras.models.Model(X, Y)\n",
        "model.compile(loss='categorical_crossentropy', metrics='accuracy')"
      ],
      "execution_count": 6,
      "outputs": []
    },
    {
      "cell_type": "code",
      "metadata": {
        "colab": {
          "base_uri": "https://localhost:8080/"
        },
        "id": "2OH-eCVrvQLc",
        "outputId": "2bba6001-b39e-4127-c432-c0077270dd3a"
      },
      "source": [
        "model.fit(inde, de, epochs=10)"
      ],
      "execution_count": 7,
      "outputs": [
        {
          "output_type": "stream",
          "text": [
            "Epoch 1/10\n",
            "586/586 [==============================] - 5s 4ms/step - loss: 0.5823 - accuracy: 0.8292\n",
            "Epoch 2/10\n",
            "586/586 [==============================] - 2s 4ms/step - loss: 0.2117 - accuracy: 0.9356\n",
            "Epoch 3/10\n",
            "586/586 [==============================] - 2s 4ms/step - loss: 0.1681 - accuracy: 0.9479\n",
            "Epoch 4/10\n",
            "586/586 [==============================] - 2s 4ms/step - loss: 0.1344 - accuracy: 0.9576\n",
            "Epoch 5/10\n",
            "586/586 [==============================] - 2s 4ms/step - loss: 0.1116 - accuracy: 0.9648\n",
            "Epoch 6/10\n",
            "586/586 [==============================] - 2s 4ms/step - loss: 0.0840 - accuracy: 0.9725\n",
            "Epoch 7/10\n",
            "586/586 [==============================] - 2s 4ms/step - loss: 0.0716 - accuracy: 0.9776\n",
            "Epoch 8/10\n",
            "586/586 [==============================] - 2s 4ms/step - loss: 0.0606 - accuracy: 0.9814\n",
            "Epoch 9/10\n",
            "586/586 [==============================] - 2s 4ms/step - loss: 0.0502 - accuracy: 0.9838\n",
            "Epoch 10/10\n",
            "586/586 [==============================] - 2s 4ms/step - loss: 0.0404 - accuracy: 0.9870\n"
          ],
          "name": "stdout"
        },
        {
          "output_type": "execute_result",
          "data": {
            "text/plain": [
              "<tensorflow.python.keras.callbacks.History at 0x7ffb505b05c0>"
            ]
          },
          "metadata": {
            "tags": []
          },
          "execution_count": 7
        }
      ]
    },
    {
      "cell_type": "code",
      "metadata": {
        "colab": {
          "base_uri": "https://localhost:8080/"
        },
        "id": "wxrvI74Qvclf",
        "outputId": "f55e09c1-f7a2-4405-d4c2-c380315a5726"
      },
      "source": [
        "model.summary()"
      ],
      "execution_count": 8,
      "outputs": [
        {
          "output_type": "stream",
          "text": [
            "Model: \"model\"\n",
            "_________________________________________________________________\n",
            "Layer (type)                 Output Shape              Param #   \n",
            "=================================================================\n",
            "input_1 (InputLayer)         [(None, 28, 28, 1)]       0         \n",
            "_________________________________________________________________\n",
            "conv2d (Conv2D)              (None, 28, 28, 6)         156       \n",
            "_________________________________________________________________\n",
            "batch_normalization (BatchNo (None, 28, 28, 6)         24        \n",
            "_________________________________________________________________\n",
            "activation (Activation)      (None, 28, 28, 6)         0         \n",
            "_________________________________________________________________\n",
            "max_pooling2d (MaxPooling2D) (None, 14, 14, 6)         0         \n",
            "_________________________________________________________________\n",
            "conv2d_1 (Conv2D)            (None, 10, 10, 16)        2416      \n",
            "_________________________________________________________________\n",
            "batch_normalization_1 (Batch (None, 10, 10, 16)        64        \n",
            "_________________________________________________________________\n",
            "activation_1 (Activation)    (None, 10, 10, 16)        0         \n",
            "_________________________________________________________________\n",
            "max_pooling2d_1 (MaxPooling2 (None, 5, 5, 16)          0         \n",
            "_________________________________________________________________\n",
            "flatten (Flatten)            (None, 400)               0         \n",
            "_________________________________________________________________\n",
            "dense (Dense)                (None, 120)               48120     \n",
            "_________________________________________________________________\n",
            "dense_1 (Dense)              (None, 84)                10164     \n",
            "_________________________________________________________________\n",
            "dense_2 (Dense)              (None, 10)                850       \n",
            "=================================================================\n",
            "Total params: 61,794\n",
            "Trainable params: 61,750\n",
            "Non-trainable params: 44\n",
            "_________________________________________________________________\n"
          ],
          "name": "stdout"
        }
      ]
    },
    {
      "cell_type": "code",
      "metadata": {
        "id": "Ef9q2LdXyL4A"
      },
      "source": [
        ""
      ],
      "execution_count": 8,
      "outputs": []
    }
  ]
}