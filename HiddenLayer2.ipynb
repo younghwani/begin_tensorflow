{
  "nbformat": 4,
  "nbformat_minor": 0,
  "metadata": {
    "colab": {
      "name": "HiddenLayer2.ipynb",
      "provenance": [],
      "collapsed_sections": [],
      "authorship_tag": "ABX9TyN1Jp+bKQHTwL1AnG9ndq1q",
      "include_colab_link": true
    },
    "kernelspec": {
      "name": "python3",
      "display_name": "Python 3"
    }
  },
  "cells": [
    {
      "cell_type": "markdown",
      "metadata": {
        "id": "view-in-github",
        "colab_type": "text"
      },
      "source": [
        "<a href=\"https://colab.research.google.com/github/younghwani/begin_tensorflow/blob/master/HiddenLayer2.ipynb\" target=\"_parent\"><img src=\"https://colab.research.google.com/assets/colab-badge.svg\" alt=\"Open In Colab\"/></a>"
      ]
    },
    {
      "cell_type": "code",
      "metadata": {
        "id": "pmiqyVF8XOWi"
      },
      "source": [
        "# Library\n",
        "import pandas as pd\n",
        "import tensorflow as tf"
      ],
      "execution_count": 1,
      "outputs": []
    },
    {
      "cell_type": "code",
      "metadata": {
        "colab": {
          "base_uri": "https://localhost:8080/"
        },
        "id": "ZKHACtZ4Xhbl",
        "outputId": "172983d1-36ad-409e-f2e5-d2369e022515"
      },
      "source": [
        "# prepare data\n",
        "path = '/content/iris.csv'\n",
        "iris = pd.read_csv(path)\n",
        "# One-Hot Encoding\n",
        "encoding = pd.get_dummies(iris)\n",
        "# columns 확인\n",
        "print(encoding.columns)"
      ],
      "execution_count": 2,
      "outputs": [
        {
          "output_type": "stream",
          "text": [
            "Index(['꽃잎길이', '꽃잎폭', '꽃받침길이', '꽃받침폭', '품종_setosa', '품종_versicolor',\n",
            "       '품종_virginica'],\n",
            "      dtype='object')\n"
          ],
          "name": "stdout"
        }
      ]
    },
    {
      "cell_type": "code",
      "metadata": {
        "colab": {
          "base_uri": "https://localhost:8080/"
        },
        "id": "zndC_cv0YAQH",
        "outputId": "c7203b4a-11d7-4979-e05b-7b32a3813bc2"
      },
      "source": [
        "# set variable\n",
        "inde = encoding[['꽃잎길이', '꽃잎폭', '꽃받침길이', '꽃받침폭']]\n",
        "de = encoding[['품종_setosa', '품종_versicolor', '품종_virginica']]\n",
        "print(inde.shape, de.shape)"
      ],
      "execution_count": 3,
      "outputs": [
        {
          "output_type": "stream",
          "text": [
            "(150, 4) (150, 3)\n"
          ],
          "name": "stdout"
        }
      ]
    },
    {
      "cell_type": "code",
      "metadata": {
        "colab": {
          "base_uri": "https://localhost:8080/"
        },
        "id": "qqU5TRHdYLVr",
        "outputId": "a31b1053-743b-4057-b940-247d174b0639"
      },
      "source": [
        "# make model\n",
        "X = tf.keras.layers.Input(shape=[4])\n",
        "H = tf.keras.layers.Dense(8, activation='swish')(X)\n",
        "H = tf.keras.layers.Dense(8, activation='swish')(H)\n",
        "H = tf.keras.layers.Dense(8, activation='swish')(H)\n",
        "Y = tf.keras.layers.Dense(3, activation='softmax')(H)\n",
        "\n",
        "model = tf.keras.models.Model(X, Y)\n",
        "model.compile(loss='categorical_crossentropy', metrics='accuracy')\n",
        "# check model\n",
        "model.summary()"
      ],
      "execution_count": 4,
      "outputs": [
        {
          "output_type": "stream",
          "text": [
            "Model: \"model\"\n",
            "_________________________________________________________________\n",
            "Layer (type)                 Output Shape              Param #   \n",
            "=================================================================\n",
            "input_1 (InputLayer)         [(None, 4)]               0         \n",
            "_________________________________________________________________\n",
            "dense (Dense)                (None, 8)                 40        \n",
            "_________________________________________________________________\n",
            "dense_1 (Dense)              (None, 8)                 72        \n",
            "_________________________________________________________________\n",
            "dense_2 (Dense)              (None, 8)                 72        \n",
            "_________________________________________________________________\n",
            "dense_3 (Dense)              (None, 3)                 27        \n",
            "=================================================================\n",
            "Total params: 211\n",
            "Trainable params: 211\n",
            "Non-trainable params: 0\n",
            "_________________________________________________________________\n"
          ],
          "name": "stdout"
        }
      ]
    },
    {
      "cell_type": "code",
      "metadata": {
        "colab": {
          "base_uri": "https://localhost:8080/"
        },
        "id": "eEh_b7blYRIy",
        "outputId": "740bd735-f357-495f-8916-3f22489b6581"
      },
      "source": [
        "# fit model\n",
        "model.fit(inde, de, epochs=300, verbose=0)\n",
        "model.fit(inde, de, epochs=10)"
      ],
      "execution_count": 5,
      "outputs": [
        {
          "output_type": "stream",
          "text": [
            "Epoch 1/10\n",
            "5/5 [==============================] - 0s 2ms/step - loss: 0.0592 - accuracy: 0.9800\n",
            "Epoch 2/10\n",
            "5/5 [==============================] - 0s 3ms/step - loss: 0.0649 - accuracy: 0.9867\n",
            "Epoch 3/10\n",
            "5/5 [==============================] - 0s 2ms/step - loss: 0.0613 - accuracy: 0.9733\n",
            "Epoch 4/10\n",
            "5/5 [==============================] - 0s 2ms/step - loss: 0.0677 - accuracy: 0.9867\n",
            "Epoch 5/10\n",
            "5/5 [==============================] - 0s 2ms/step - loss: 0.0714 - accuracy: 0.9667\n",
            "Epoch 6/10\n",
            "5/5 [==============================] - 0s 2ms/step - loss: 0.0629 - accuracy: 0.9867\n",
            "Epoch 7/10\n",
            "5/5 [==============================] - 0s 2ms/step - loss: 0.0603 - accuracy: 0.9933\n",
            "Epoch 8/10\n",
            "5/5 [==============================] - 0s 3ms/step - loss: 0.0646 - accuracy: 0.9800\n",
            "Epoch 9/10\n",
            "5/5 [==============================] - 0s 2ms/step - loss: 0.0629 - accuracy: 0.9733\n",
            "Epoch 10/10\n",
            "5/5 [==============================] - 0s 3ms/step - loss: 0.0605 - accuracy: 0.9867\n"
          ],
          "name": "stdout"
        },
        {
          "output_type": "execute_result",
          "data": {
            "text/plain": [
              "<tensorflow.python.keras.callbacks.History at 0x7f5f804f8dd8>"
            ]
          },
          "metadata": {
            "tags": []
          },
          "execution_count": 5
        }
      ]
    },
    {
      "cell_type": "code",
      "metadata": {
        "colab": {
          "base_uri": "https://localhost:8080/"
        },
        "id": "RThnoq3rZpke",
        "outputId": "70783bc6-388d-4f87-d774-9a48c08967e1"
      },
      "source": [
        "# use model\n",
        "print(model.predict(inde[:5]))\n",
        "print(de[:5])"
      ],
      "execution_count": 6,
      "outputs": [
        {
          "output_type": "stream",
          "text": [
            "[[9.9998379e-01 1.6247343e-05 2.4690505e-09]\n",
            " [9.9995255e-01 4.7416295e-05 1.2623837e-08]\n",
            " [9.9996805e-01 3.1995631e-05 9.8107193e-09]\n",
            " [9.9993932e-01 6.0636947e-05 1.7570109e-08]\n",
            " [9.9998522e-01 1.4829159e-05 2.3301923e-09]]\n",
            "   품종_setosa  품종_versicolor  품종_virginica\n",
            "0          1              0             0\n",
            "1          1              0             0\n",
            "2          1              0             0\n",
            "3          1              0             0\n",
            "4          1              0             0\n"
          ],
          "name": "stdout"
        }
      ]
    }
  ]
}