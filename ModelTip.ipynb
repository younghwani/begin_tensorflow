{
  "nbformat": 4,
  "nbformat_minor": 0,
  "metadata": {
    "colab": {
      "name": "ModelTip.ipynb",
      "provenance": [],
      "collapsed_sections": [],
      "authorship_tag": "ABX9TyNZYb0+91kcM+GRTIrV9D9C",
      "include_colab_link": true
    },
    "kernelspec": {
      "name": "python3",
      "display_name": "Python 3"
    }
  },
  "cells": [
    {
      "cell_type": "markdown",
      "metadata": {
        "id": "view-in-github",
        "colab_type": "text"
      },
      "source": [
        "<a href=\"https://colab.research.google.com/github/younghwani/begin_tensorflow/blob/master/ModelTip.ipynb\" target=\"_parent\"><img src=\"https://colab.research.google.com/assets/colab-badge.svg\" alt=\"Open In Colab\"/></a>"
      ]
    },
    {
      "cell_type": "code",
      "metadata": {
        "id": "pmiqyVF8XOWi"
      },
      "source": [
        "# Library\n",
        "import pandas as pd\n",
        "import tensorflow as tf"
      ],
      "execution_count": 1,
      "outputs": []
    },
    {
      "cell_type": "markdown",
      "metadata": {
        "id": "4qMcNiDBnrLg"
      },
      "source": [
        "# 새로 추가하여 사용할 것\n",
        "- use\n",
        "    - tf.keras.layers.BatchNormalization()\n",
        "    - tf.keras.layers.Activation('swish')"
      ]
    },
    {
      "cell_type": "markdown",
      "metadata": {
        "id": "6klgIBn7hyPI"
      },
      "source": [
        "#Iris"
      ]
    },
    {
      "cell_type": "code",
      "metadata": {
        "colab": {
          "base_uri": "https://localhost:8080/"
        },
        "id": "ZKHACtZ4Xhbl",
        "outputId": "f2818a2d-bb55-42f8-86dd-8994846ec511"
      },
      "source": [
        "# prepare data\n",
        "path = '/content/iris.csv'\n",
        "iris = pd.read_csv(path)\n",
        "# One-Hot Encoding\n",
        "encoding = pd.get_dummies(iris)\n",
        "# columns 확인\n",
        "print(encoding.columns)"
      ],
      "execution_count": 2,
      "outputs": [
        {
          "output_type": "stream",
          "text": [
            "Index(['꽃잎길이', '꽃잎폭', '꽃받침길이', '꽃받침폭', '품종_setosa', '품종_versicolor',\n",
            "       '품종_virginica'],\n",
            "      dtype='object')\n"
          ],
          "name": "stdout"
        }
      ]
    },
    {
      "cell_type": "code",
      "metadata": {
        "colab": {
          "base_uri": "https://localhost:8080/"
        },
        "id": "zndC_cv0YAQH",
        "outputId": "64488b5d-e7ad-49b6-c9dd-8d45cd140da5"
      },
      "source": [
        "# set variable\n",
        "inde = encoding[['꽃잎길이', '꽃잎폭', '꽃받침길이', '꽃받침폭']]\n",
        "de = encoding[['품종_setosa', '품종_versicolor', '품종_virginica']]\n",
        "print(inde.shape, de.shape)"
      ],
      "execution_count": 3,
      "outputs": [
        {
          "output_type": "stream",
          "text": [
            "(150, 4) (150, 3)\n"
          ],
          "name": "stdout"
        }
      ]
    },
    {
      "cell_type": "code",
      "metadata": {
        "colab": {
          "base_uri": "https://localhost:8080/"
        },
        "id": "qqU5TRHdYLVr",
        "outputId": "1882b050-463e-4e4c-99c5-08a890c1aa09"
      },
      "source": [
        "# make model\n",
        "X = tf.keras.layers.Input(shape=[4])\n",
        "H = tf.keras.layers.Dense(8, activation='swish')(X)\n",
        "H = tf.keras.layers.Dense(8, activation='swish')(H)\n",
        "H = tf.keras.layers.Dense(8, activation='swish')(H)\n",
        "Y = tf.keras.layers.Dense(3, activation='softmax')(H)\n",
        "\n",
        "model = tf.keras.models.Model(X, Y)\n",
        "model.compile(loss='categorical_crossentropy', metrics='accuracy')\n",
        "# check model\n",
        "model.summary()"
      ],
      "execution_count": 4,
      "outputs": [
        {
          "output_type": "stream",
          "text": [
            "Model: \"model\"\n",
            "_________________________________________________________________\n",
            "Layer (type)                 Output Shape              Param #   \n",
            "=================================================================\n",
            "input_1 (InputLayer)         [(None, 4)]               0         \n",
            "_________________________________________________________________\n",
            "dense (Dense)                (None, 8)                 40        \n",
            "_________________________________________________________________\n",
            "dense_1 (Dense)              (None, 8)                 72        \n",
            "_________________________________________________________________\n",
            "dense_2 (Dense)              (None, 8)                 72        \n",
            "_________________________________________________________________\n",
            "dense_3 (Dense)              (None, 3)                 27        \n",
            "=================================================================\n",
            "Total params: 211\n",
            "Trainable params: 211\n",
            "Non-trainable params: 0\n",
            "_________________________________________________________________\n"
          ],
          "name": "stdout"
        }
      ]
    },
    {
      "cell_type": "code",
      "metadata": {
        "id": "rbjuFx85lo5n"
      },
      "source": [
        "# make model use BatchNormalization()\n",
        "X = tf.keras.layers.Input(shape=[4])\n",
        "\n",
        "H = tf.keras.layers.Dense(8)(X)\n",
        "H = tf.keras.layers.Activation('swish')(H)\n",
        "H = tf.keras.layers.BatchNormalization()(H)\n",
        "\n",
        "H = tf.keras.layers.Dense(8)(H)\n",
        "H = tf.keras.layers.Activation('swish')(H)\n",
        "H = tf.keras.layers.BatchNormalization()(H)\n",
        "\n",
        "H = tf.keras.layers.Dense(8)(H)\n",
        "H = tf.keras.layers.Activation('swish')(H)\n",
        "H = tf.keras.layers.BatchNormalization()(H)\n",
        "\n",
        "Y = tf.keras.layers.Dense(3, activation='softmax')(H)\n",
        "model = tf.keras.models.Model(X, Y)\n",
        "model.compile(loss='categorical_crossentropy', metrics='accuracy')"
      ],
      "execution_count": 5,
      "outputs": []
    },
    {
      "cell_type": "code",
      "metadata": {
        "colab": {
          "base_uri": "https://localhost:8080/"
        },
        "id": "eEh_b7blYRIy",
        "outputId": "822a44bc-c105-4e64-c2a5-38bf1c7712a3"
      },
      "source": [
        "# fit model\n",
        "model.fit(inde, de, epochs=1000, batch_size=150, verbose=0)\n",
        "model.fit(inde, de, epochs=10, batch_size=150)"
      ],
      "execution_count": 6,
      "outputs": [
        {
          "output_type": "stream",
          "text": [
            "Epoch 1/10\n",
            "1/1 [==============================] - 0s 5ms/step - loss: 0.0078 - accuracy: 1.0000\n",
            "Epoch 2/10\n",
            "1/1 [==============================] - 0s 6ms/step - loss: 0.0079 - accuracy: 1.0000\n",
            "Epoch 3/10\n",
            "1/1 [==============================] - 0s 7ms/step - loss: 0.0078 - accuracy: 1.0000\n",
            "Epoch 4/10\n",
            "1/1 [==============================] - 0s 5ms/step - loss: 0.0078 - accuracy: 1.0000\n",
            "Epoch 5/10\n",
            "1/1 [==============================] - 0s 5ms/step - loss: 0.0077 - accuracy: 1.0000\n",
            "Epoch 6/10\n",
            "1/1 [==============================] - 0s 6ms/step - loss: 0.0078 - accuracy: 1.0000\n",
            "Epoch 7/10\n",
            "1/1 [==============================] - 0s 4ms/step - loss: 0.0077 - accuracy: 1.0000\n",
            "Epoch 8/10\n",
            "1/1 [==============================] - 0s 5ms/step - loss: 0.0077 - accuracy: 1.0000\n",
            "Epoch 9/10\n",
            "1/1 [==============================] - 0s 5ms/step - loss: 0.0077 - accuracy: 1.0000\n",
            "Epoch 10/10\n",
            "1/1 [==============================] - 0s 5ms/step - loss: 0.0077 - accuracy: 1.0000\n"
          ],
          "name": "stdout"
        },
        {
          "output_type": "execute_result",
          "data": {
            "text/plain": [
              "<tensorflow.python.keras.callbacks.History at 0x7fb3879324e0>"
            ]
          },
          "metadata": {
            "tags": []
          },
          "execution_count": 6
        }
      ]
    },
    {
      "cell_type": "code",
      "metadata": {
        "colab": {
          "base_uri": "https://localhost:8080/"
        },
        "id": "RThnoq3rZpke",
        "outputId": "a00eb071-d81f-4239-8641-ef22bca266d4"
      },
      "source": [
        "# use model\n",
        "print(model.predict(inde[:5]))\n",
        "print(de[:5])"
      ],
      "execution_count": 7,
      "outputs": [
        {
          "output_type": "stream",
          "text": [
            "[[9.9998546e-01 1.1196395e-05 3.2795635e-06]\n",
            " [9.9996018e-01 3.6057692e-05 3.7651355e-06]\n",
            " [9.9998617e-01 4.1682697e-06 9.6968706e-06]\n",
            " [9.9998164e-01 1.4385740e-05 3.8815147e-06]\n",
            " [9.9998796e-01 6.9173093e-06 5.1854672e-06]]\n",
            "   품종_setosa  품종_versicolor  품종_virginica\n",
            "0          1              0             0\n",
            "1          1              0             0\n",
            "2          1              0             0\n",
            "3          1              0             0\n",
            "4          1              0             0\n"
          ],
          "name": "stdout"
        }
      ]
    },
    {
      "cell_type": "markdown",
      "metadata": {
        "id": "zWCvpvZmhrgI"
      },
      "source": [
        "#Boston"
      ]
    },
    {
      "cell_type": "code",
      "metadata": {
        "id": "vxqcCkldRV5y"
      },
      "source": [
        "# Prepare Data\n",
        "path = '/content/boston.csv'\n",
        "boston = pd.read_csv(path)\n",
        "# inde:독립변수, de:종속변수\n",
        "inde = boston[['crim', 'zn', 'indus', 'chas', 'nox', 'rm', 'age', 'dis', 'rad', 'tax',\n",
        "       'ptratio', 'b', 'lstat']]\n",
        "de = boston[['medv']]\n",
        "#print(inde.shape, de.shape)"
      ],
      "execution_count": 8,
      "outputs": []
    },
    {
      "cell_type": "code",
      "metadata": {
        "id": "bkvVIfPyRWJO"
      },
      "source": [
        "# Make Model\n",
        "X = tf.keras.layers.Input(shape=[13])\n",
        "H = tf.keras.layers.Dense(8, activation='swish')(X)\n",
        "H = tf.keras.layers.Dense(8, activation='swish')(H)\n",
        "H = tf.keras.layers.Dense(8, activation='swish')(H)\n",
        "Y = tf.keras.layers.Dense(1)(H)\n",
        "model = tf.keras.models.Model(X, Y)\n",
        "model.compile(loss='mse')"
      ],
      "execution_count": 9,
      "outputs": []
    },
    {
      "cell_type": "code",
      "metadata": {
        "id": "xwXvRkMnimaK"
      },
      "source": [
        "# 위의 방식보다 loss 조금 더 효율적으로 다루기\n",
        "# BatchNormalization 사용 (Dense layer와 activation layer 사이에 위치하는 것이 효과적)\n",
        "X = tf.keras.layers.Input(shape=[13])\n",
        "\n",
        "H = tf.keras.layers.Dense(8)(X)\n",
        "H = tf.keras.layers.BatchNormalization()(H)\n",
        "H = tf.keras.layers.Activation('swish')(H)\n",
        "\n",
        "H = tf.keras.layers.Dense(8)(H)\n",
        "H = tf.keras.layers.BatchNormalization()(H)\n",
        "H = tf.keras.layers.Activation('swish')(H)\n",
        "\n",
        "H = tf.keras.layers.Dense(8)(H)\n",
        "H = tf.keras.layers.BatchNormalization()(H)\n",
        "H = tf.keras.layers.Activation('swish')(H)\n",
        "\n",
        "Y = tf.keras.layers.Dense(1)(H)\n",
        "model = tf.keras.models.Model(X, Y)\n",
        "model.compile(loss='mse')"
      ],
      "execution_count": 10,
      "outputs": []
    },
    {
      "cell_type": "code",
      "metadata": {
        "colab": {
          "base_uri": "https://localhost:8080/"
        },
        "id": "BUaHmWloRWUx",
        "outputId": "44f579de-06d4-48f1-f136-079d7f1274a3"
      },
      "source": [
        "# Fit Model\n",
        "model.fit(inde, de, epochs=1000, verbose=0)\n",
        "model.fit(inde, de, epochs=10)"
      ],
      "execution_count": 11,
      "outputs": [
        {
          "output_type": "stream",
          "text": [
            "Epoch 1/10\n",
            "16/16 [==============================] - 0s 2ms/step - loss: 9.3392\n",
            "Epoch 2/10\n",
            "16/16 [==============================] - 0s 2ms/step - loss: 9.8980\n",
            "Epoch 3/10\n",
            "16/16 [==============================] - 0s 2ms/step - loss: 10.8261\n",
            "Epoch 4/10\n",
            "16/16 [==============================] - 0s 2ms/step - loss: 11.0518\n",
            "Epoch 5/10\n",
            "16/16 [==============================] - 0s 2ms/step - loss: 15.7938\n",
            "Epoch 6/10\n",
            "16/16 [==============================] - 0s 2ms/step - loss: 11.6543\n",
            "Epoch 7/10\n",
            "16/16 [==============================] - 0s 2ms/step - loss: 10.1682\n",
            "Epoch 8/10\n",
            "16/16 [==============================] - 0s 2ms/step - loss: 9.1073\n",
            "Epoch 9/10\n",
            "16/16 [==============================] - 0s 2ms/step - loss: 10.1149\n",
            "Epoch 10/10\n",
            "16/16 [==============================] - 0s 2ms/step - loss: 9.4060\n"
          ],
          "name": "stdout"
        },
        {
          "output_type": "execute_result",
          "data": {
            "text/plain": [
              "<tensorflow.python.keras.callbacks.History at 0x7fb3850a08d0>"
            ]
          },
          "metadata": {
            "tags": []
          },
          "execution_count": 11
        }
      ]
    },
    {
      "cell_type": "code",
      "metadata": {
        "colab": {
          "base_uri": "https://localhost:8080/"
        },
        "id": "C0i3c3MSRWb0",
        "outputId": "d7b6e6e8-2a8c-43a8-8346-6b2bd6ee1044"
      },
      "source": [
        "# Use Model\n",
        "model.predict(inde[5:10])"
      ],
      "execution_count": 12,
      "outputs": [
        {
          "output_type": "execute_result",
          "data": {
            "text/plain": [
              "array([[24.96086 ],\n",
              "       [20.548134],\n",
              "       [19.677195],\n",
              "       [17.246357],\n",
              "       [19.138678]], dtype=float32)"
            ]
          },
          "metadata": {
            "tags": []
          },
          "execution_count": 12
        }
      ]
    },
    {
      "cell_type": "code",
      "metadata": {
        "colab": {
          "base_uri": "https://localhost:8080/",
          "height": 204
        },
        "id": "LnEKInqxUVEd",
        "outputId": "a928a0c7-1bdb-45e0-becc-6070ed2d73e7"
      },
      "source": [
        "de[5:10]"
      ],
      "execution_count": 13,
      "outputs": [
        {
          "output_type": "execute_result",
          "data": {
            "text/html": [
              "<div>\n",
              "<style scoped>\n",
              "    .dataframe tbody tr th:only-of-type {\n",
              "        vertical-align: middle;\n",
              "    }\n",
              "\n",
              "    .dataframe tbody tr th {\n",
              "        vertical-align: top;\n",
              "    }\n",
              "\n",
              "    .dataframe thead th {\n",
              "        text-align: right;\n",
              "    }\n",
              "</style>\n",
              "<table border=\"1\" class=\"dataframe\">\n",
              "  <thead>\n",
              "    <tr style=\"text-align: right;\">\n",
              "      <th></th>\n",
              "      <th>medv</th>\n",
              "    </tr>\n",
              "  </thead>\n",
              "  <tbody>\n",
              "    <tr>\n",
              "      <th>5</th>\n",
              "      <td>28.7</td>\n",
              "    </tr>\n",
              "    <tr>\n",
              "      <th>6</th>\n",
              "      <td>22.9</td>\n",
              "    </tr>\n",
              "    <tr>\n",
              "      <th>7</th>\n",
              "      <td>27.1</td>\n",
              "    </tr>\n",
              "    <tr>\n",
              "      <th>8</th>\n",
              "      <td>16.5</td>\n",
              "    </tr>\n",
              "    <tr>\n",
              "      <th>9</th>\n",
              "      <td>18.9</td>\n",
              "    </tr>\n",
              "  </tbody>\n",
              "</table>\n",
              "</div>"
            ],
            "text/plain": [
              "   medv\n",
              "5  28.7\n",
              "6  22.9\n",
              "7  27.1\n",
              "8  16.5\n",
              "9  18.9"
            ]
          },
          "metadata": {
            "tags": []
          },
          "execution_count": 13
        }
      ]
    },
    {
      "cell_type": "code",
      "metadata": {
        "colab": {
          "base_uri": "https://localhost:8080/"
        },
        "id": "1ggD8IzeUd93",
        "outputId": "f105b50d-88fa-4351-811e-3f3b7c2fd59c"
      },
      "source": [
        "# 모델의 수식 확인\n",
        "model.get_weights()"
      ],
      "execution_count": 14,
      "outputs": [
        {
          "output_type": "execute_result",
          "data": {
            "text/plain": [
              "[array([[ 3.13474029e-01, -1.32558930e+00,  2.92822897e-01,\n",
              "         -9.85834599e-02, -9.98463809e-01,  1.37119383e-01,\n",
              "          2.13817388e-01,  1.22821219e-01],\n",
              "        [ 5.54187745e-02, -1.85839739e-03, -2.27773800e-01,\n",
              "          3.94657739e-02, -1.54707000e-01, -6.14731610e-02,\n",
              "         -6.83088079e-02, -1.98782142e-02],\n",
              "        [ 5.84541142e-01,  4.01500374e-01,  6.75636828e-01,\n",
              "          2.06911474e-01, -6.75088048e-01, -2.94491619e-01,\n",
              "         -1.49016827e-01, -1.40587717e-01],\n",
              "        [-4.15295303e-01,  2.30479062e-01, -7.05417037e-01,\n",
              "          1.15826607e+00,  1.87768877e+00, -6.76724553e-01,\n",
              "         -1.59673238e+00, -4.89953488e-01],\n",
              "        [-6.31342077e+00,  2.00399208e+00,  7.47378397e+00,\n",
              "         -2.90047669e+00,  6.22954786e-01, -6.61620498e-01,\n",
              "          2.97667813e+00,  1.17566860e+00],\n",
              "        [-1.05938852e+00, -1.03012896e+00,  4.60615098e-01,\n",
              "          6.45070851e-01, -2.41390228e+00,  2.52414227e+00,\n",
              "          6.56800032e-01, -2.62615347e+00],\n",
              "        [ 2.55491585e-01, -5.98832130e-01, -2.42474213e-01,\n",
              "         -2.68075705e-01, -3.03068869e-02, -1.41095184e-02,\n",
              "         -2.45469347e-01,  4.43948470e-02],\n",
              "        [-2.38044190e+00,  6.57954514e-01,  1.91242099e+00,\n",
              "         -1.06468332e+00,  3.29901308e-01,  2.00803250e-01,\n",
              "          1.12349403e+00,  3.45969796e-01],\n",
              "        [-7.85726130e-01,  8.58587921e-01, -3.99147063e-01,\n",
              "          4.92564552e-02,  7.90005401e-02, -2.73631692e-01,\n",
              "         -3.69711637e-01, -3.74016464e-01],\n",
              "        [ 2.30331436e-01,  1.88305482e-01,  2.11885065e-01,\n",
              "          6.82530999e-02, -1.82938948e-01, -8.15590248e-02,\n",
              "          7.82118291e-02, -3.19587477e-02],\n",
              "        [-2.51758069e-01, -5.08213162e-01, -4.47941154e-01,\n",
              "          1.76315665e-01, -6.53737605e-01, -4.66591626e-01,\n",
              "          9.21976626e-01,  1.54094353e-01],\n",
              "        [ 3.24774161e-03,  2.23669842e-01, -1.67766996e-02,\n",
              "          1.01042405e-01,  1.57002285e-01,  7.52829248e-03,\n",
              "          1.80779934e-01,  7.78637186e-05],\n",
              "        [-1.09931707e-01, -1.05204892e+00,  1.13427854e+00,\n",
              "         -1.50223720e+00,  1.42356018e-02, -6.56556264e-02,\n",
              "          1.26303101e+00, -7.69929066e-02]], dtype=float32),\n",
              " array([ 0.08058628,  0.02704679,  0.02500594,  0.16296366, -0.05249164,\n",
              "         0.07512639,  0.02042448,  0.00256854], dtype=float32),\n",
              " array([1.0899421 , 1.0355805 , 0.97922945, 0.8890599 , 0.82083565,\n",
              "        1.1939775 , 0.86749536, 1.1858854 ], dtype=float32),\n",
              " array([ 0.1153891 , -0.23349941, -0.14872718,  0.25227037,  0.12367395,\n",
              "         0.00247098,  0.21529572,  0.37587848], dtype=float32),\n",
              " array([ 89.73558 ,  99.60515 ,  87.50973 ,  31.794113, -59.10583 ,\n",
              "        -29.118923, 117.5232  , -27.540928], dtype=float32),\n",
              " array([1907.3225  , 1004.3527  , 1561.7534  ,  254.10516 , 2222.6956  ,\n",
              "         329.9169  ,  282.53625 ,   61.283733], dtype=float32),\n",
              " array([[ 0.11170264,  0.4367526 , -0.5234672 ,  0.11263958, -0.4142246 ,\n",
              "          0.46309978,  0.20367612,  0.12966007],\n",
              "        [-0.02399959, -0.09806014, -0.6023913 , -0.01160479,  0.3858556 ,\n",
              "         -0.17766617,  0.14848174,  0.2131585 ],\n",
              "        [-0.27088362, -0.10030632, -0.34351125, -0.18761536,  0.33677623,\n",
              "         -0.45656437,  0.26119265,  0.69775176],\n",
              "        [-0.5849716 ,  0.12290174,  0.1242722 , -0.23434478,  0.7085964 ,\n",
              "          0.24709542, -0.3737922 , -0.10761895],\n",
              "        [ 0.01967751, -0.49191964, -0.14565445, -0.03168714, -0.42247474,\n",
              "         -0.44232595, -0.09113141, -0.47479138],\n",
              "        [-0.2559488 ,  0.45171443, -0.2372427 ,  1.0359395 , -0.04695434,\n",
              "          0.62277794,  0.5133798 , -0.60910785],\n",
              "        [-0.68669367, -0.6237864 ,  0.09665583,  0.13603173, -0.5396146 ,\n",
              "          0.08950295, -0.8019482 , -0.08201353],\n",
              "        [ 0.4516621 ,  0.01248477, -0.46819466,  0.1996751 ,  0.04574062,\n",
              "         -0.446072  ,  0.34739017,  0.64460135]], dtype=float32),\n",
              " array([-0.13657755,  0.04187009, -0.10425543, -0.10614897, -0.03930975,\n",
              "        -0.13445099, -0.1561745 ,  0.10223629], dtype=float32),\n",
              " array([1.1822565 , 1.2299569 , 1.3808407 , 0.93648887, 0.7306554 ,\n",
              "        1.1646903 , 0.7588034 , 1.0550771 ], dtype=float32),\n",
              " array([ 0.65772706, -0.14513795,  0.0468756 ,  0.16449876,  0.7297568 ,\n",
              "        -0.45339125, -0.5549037 ,  0.12209237], dtype=float32),\n",
              " array([-0.3440694 ,  0.04665033, -0.64781713,  0.26597694, -0.0960092 ,\n",
              "        -0.11518119, -0.05756935,  0.24905206], dtype=float32),\n",
              " array([0.46508273, 0.10301302, 0.1620771 , 0.32171163, 0.24385986,\n",
              "        0.08955701, 0.27858466, 0.388654  ], dtype=float32),\n",
              " array([[-0.76035655,  0.01762247,  0.15105228,  0.00624253,  0.12506191,\n",
              "         -0.05074152, -0.06627221,  0.16711363],\n",
              "        [ 0.07336286,  0.13827807,  0.13457488, -0.22944607, -0.3568258 ,\n",
              "          0.6309053 ,  0.35337615, -0.14526846],\n",
              "        [-0.18426314,  0.07670481, -0.32032466, -0.06881225, -0.3910655 ,\n",
              "         -0.01095123, -0.17403552,  1.0332706 ],\n",
              "        [ 0.2516806 ,  0.6061414 ,  0.20109603,  0.09521173, -0.7410956 ,\n",
              "         -0.02177251,  0.40721238, -0.2518652 ],\n",
              "        [ 0.7863501 ,  0.08642134,  0.22464018, -0.36984435,  0.05043808,\n",
              "         -0.14348209,  0.05325787, -0.35171822],\n",
              "        [ 0.49050707,  0.29293403, -0.18005906,  0.53883606,  0.30958563,\n",
              "          0.25423014,  0.27888948, -0.11239722],\n",
              "        [ 0.02206775, -0.29311693, -0.9629538 , -0.17901966, -0.24551511,\n",
              "          0.19992514,  0.02473377,  0.0563813 ],\n",
              "        [-0.16223732, -0.54446244, -0.1466849 , -0.04968594,  0.06610153,\n",
              "         -0.4081292 , -0.9066451 , -0.3633952 ]], dtype=float32),\n",
              " array([ 0.05401511, -0.03752451, -0.00212678,  0.07949816,  0.02610277,\n",
              "        -0.09031744, -0.18668306, -0.04157635], dtype=float32),\n",
              " array([2.277998 , 2.4781833, 0.9919897, 1.3963542, 2.4652128, 2.1795948,\n",
              "        2.529495 , 2.144454 ], dtype=float32),\n",
              " array([ 1.753362 ,  1.772539 , -1.0117092, -0.9918162,  1.9915859,\n",
              "         1.1360908,  1.7200656,  1.7273902], dtype=float32),\n",
              " array([-0.02569281,  0.14251   ,  0.22606896, -0.13717683, -0.20979539,\n",
              "        -0.20784126, -0.3241344 ,  0.0241788 ], dtype=float32),\n",
              " array([0.97403795, 0.3427992 , 0.04497635, 0.08964896, 0.34703872,\n",
              "        0.19195743, 0.43307385, 0.6355783 ], dtype=float32),\n",
              " array([[ 1.5808133],\n",
              "        [ 1.7533783],\n",
              "        [-2.4658067],\n",
              "        [-2.510862 ],\n",
              "        [ 1.8501542],\n",
              "        [ 1.3673488],\n",
              "        [ 2.1807048],\n",
              "        [ 2.1481376]], dtype=float32),\n",
              " array([1.811007], dtype=float32)]"
            ]
          },
          "metadata": {
            "tags": []
          },
          "execution_count": 14
        }
      ]
    }
  ]
}