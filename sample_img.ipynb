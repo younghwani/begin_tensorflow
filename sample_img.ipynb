{
  "nbformat": 4,
  "nbformat_minor": 0,
  "metadata": {
    "colab": {
      "name": "sample_img.ipynb",
      "provenance": [],
      "collapsed_sections": [],
      "authorship_tag": "ABX9TyOLXOX87IPohM8HMMRdG20G"
    },
    "kernelspec": {
      "name": "python3",
      "display_name": "Python 3"
    }
  },
  "cells": [
    {
      "cell_type": "code",
      "metadata": {
        "id": "R9nxzjj9bvlP"
      },
      "source": [
        "import tensorflow as tf"
      ],
      "execution_count": 1,
      "outputs": []
    },
    {
      "cell_type": "code",
      "metadata": {
        "colab": {
          "base_uri": "https://localhost:8080/"
        },
        "id": "llwgAnu1b3UT",
        "outputId": "0527e4d8-7b26-41a4-8ee8-7411b5811059"
      },
      "source": [
        "(mnist_x, mnist_y), _ = tf.keras.datasets.mnist.load_data()\n",
        "print(mnist_x.shape, mnist_y.shape)\n",
        "\n",
        "(cifar_x, cifar_y), _ = tf.keras.datasets.cifar10.load_data()\n",
        "print(cifar_x.shape, cifar_y.shape)"
      ],
      "execution_count": 2,
      "outputs": [
        {
          "output_type": "stream",
          "text": [
            "(60000, 28, 28) (60000,)\n",
            "(50000, 32, 32, 3) (50000, 1)\n"
          ],
          "name": "stdout"
        }
      ]
    },
    {
      "cell_type": "code",
      "metadata": {
        "colab": {
          "base_uri": "https://localhost:8080/",
          "height": 299
        },
        "id": "X5Zx22kMcpay",
        "outputId": "51ce2864-1205-4fe4-e4d6-846330207b49"
      },
      "source": [
        "print(mnist_y[0:10])\n",
        "import matplotlib.pyplot as plt\n",
        "plt.imshow(mnist_x[4], cmap='gray')"
      ],
      "execution_count": 3,
      "outputs": [
        {
          "output_type": "stream",
          "text": [
            "[5 0 4 1 9 2 1 3 1 4]\n"
          ],
          "name": "stdout"
        },
        {
          "output_type": "execute_result",
          "data": {
            "text/plain": [
              "<matplotlib.image.AxesImage at 0x7f10582e5b00>"
            ]
          },
          "metadata": {
            "tags": []
          },
          "execution_count": 3
        },
        {
          "output_type": "display_data",
          "data": {
            "image/png": "[encoded data removed]",
            "text/plain": [
              "<Figure size 432x288 with 1 Axes>"
            ]
          },
          "metadata": {
            "tags": [],
            "needs_background": "light"
          }
        }
      ]
    },
    {
      "cell_type": "code",
      "metadata": {
        "colab": {
          "base_uri": "https://localhost:8080/",
          "height": 453
        },
        "id": "K5EalcpGdLTo",
        "outputId": "9d859870-6a70-4efd-ee0d-de74f2543642"
      },
      "source": [
        "print(cifar_y[0:10])\n",
        "\n",
        "import matplotlib.pyplot as plt\n",
        "plt.imshow(cifar_x[0])"
      ],
      "execution_count": 4,
      "outputs": [
        {
          "output_type": "stream",
          "text": [
            "[[6]\n",
            " [9]\n",
            " [9]\n",
            " [4]\n",
            " [1]\n",
            " [1]\n",
            " [2]\n",
            " [7]\n",
            " [8]\n",
            " [3]]\n"
          ],
          "name": "stdout"
        },
        {
          "output_type": "execute_result",
          "data": {
            "text/plain": [
              "<matplotlib.image.AxesImage at 0x7f1058ba1dd8>"
            ]
          },
          "metadata": {
            "tags": []
          },
          "execution_count": 4
        },
        {
          "output_type": "display_data",
          "data": {
            "image/png": "[encoded data removed]",
            "text/plain": [
              "<Figure size 432x288 with 1 Axes>"
            ]
          },
          "metadata": {
            "tags": [],
            "needs_background": "light"
          }
        }
      ]
    },
    {
      "cell_type": "code",
      "metadata": {
        "colab": {
          "base_uri": "https://localhost:8080/"
        },
        "id": "JlCDl7S4duSl",
        "outputId": "de969411-f91b-4ad7-b647-a2bf653f40bf"
      },
      "source": [
        "import numpy as np\n",
        "\n",
        "d1 = np.array([1, 2, 3, 4, 5])\n",
        "print(d1.shape) # 1차원\n",
        "\n",
        "d2 = np.array([d1, d1, d1, d1])\n",
        "print(d2.shape) # 2차원\n",
        "\n",
        "d3 = np.array([d2, d2, d2])\n",
        "print(d3.shape) # 3차원\n",
        "\n",
        "d4 = np.array([d3, d3])\n",
        "print(d4.shape) # 4차원"
      ],
      "execution_count": 5,
      "outputs": [
        {
          "output_type": "stream",
          "text": [
            "(5,)\n",
            "(4, 5)\n",
            "(3, 4, 5)\n",
            "(2, 3, 4, 5)\n"
          ],
          "name": "stdout"
        }
      ]
    },
    {
      "cell_type": "code",
      "metadata": {
        "colab": {
          "base_uri": "https://localhost:8080/"
        },
        "id": "eIGLaNH8eGJG",
        "outputId": "8bcb9f49-caf5-40dd-aa52-b2a0ca216f7f"
      },
      "source": [
        "print(mnist_y.shape)\n",
        "print(cifar_y.shape)"
      ],
      "execution_count": 6,
      "outputs": [
        {
          "output_type": "stream",
          "text": [
            "(60000,)\n",
            "(50000, 1)\n"
          ],
          "name": "stdout"
        }
      ]
    },
    {
      "cell_type": "code",
      "metadata": {
        "colab": {
          "base_uri": "https://localhost:8080/"
        },
        "id": "Nk3pGbNUegLz",
        "outputId": "55ac7cb4-ead2-4f54-d408-eecda725812a"
      },
      "source": [
        "x1 = np.array([1, 2, 3, 4, 5])\n",
        "print(x1.shape)\n",
        "print(mnist_y[0:5])\n",
        "print(mnist_y[0:5].shape)\n",
        "\n",
        "x2 = np.array([[1, 2, 3, 4, 5], [1, 2, 3, 4, 5]])\n",
        "print(x2.shape)\n",
        "\n",
        "x3 = np.array([[1], [2], [3], [4], [5]])\n",
        "print(x3.shape)\n",
        "print(cifar_y[0:5])\n",
        "print(cifar_y[0:5].shape)"
      ],
      "execution_count": 7,
      "outputs": [
        {
          "output_type": "stream",
          "text": [
            "(5,)\n",
            "[5 0 4 1 9]\n",
            "(5,)\n",
            "(2, 5)\n",
            "(5, 1)\n",
            "[[6]\n",
            " [9]\n",
            " [9]\n",
            " [4]\n",
            " [1]]\n",
            "(5, 1)\n"
          ],
          "name": "stdout"
        }
      ]
    }
  ]
}